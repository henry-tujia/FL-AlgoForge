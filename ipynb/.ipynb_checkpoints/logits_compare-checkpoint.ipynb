{
 "cells": [
  {
   "cell_type": "code",
   "execution_count": 29,
   "metadata": {},
   "outputs": [
    {
     "name": "stderr",
     "output_type": "stream",
     "text": [
      "INFO:root:*********partition data***************\n",
      "INFO:root:N = 50000\n",
      "INFO:root:traindata_cls_counts = {0: {0: 17, 1: 186, 2: 258, 3: 20, 4: 2209}, 1: {0: 1269, 1: 163, 2: 308, 3: 165, 4: 77, 5: 160, 6: 58, 7: 133, 9: 4}, 2: {1: 140, 2: 33, 3: 1506, 4: 557, 5: 6, 6: 23, 7: 764}, 3: {0: 86, 1: 13, 3: 14, 4: 49, 5: 455, 6: 292, 8: 11, 9: 2238}, 4: {0: 63, 1: 86, 2: 15, 3: 181, 4: 1122, 5: 1078}, 5: {0: 2, 1: 657, 2: 1245, 3: 156, 4: 181, 5: 21, 6: 947}, 6: {0: 5, 1: 2, 3: 20, 4: 8, 5: 97, 6: 912, 7: 7, 8: 426, 9: 556}, 7: {0: 21, 1: 244, 3: 6, 4: 47, 5: 44, 6: 34, 7: 14, 8: 69, 9: 383}, 8: {0: 1482, 1: 448, 2: 254, 3: 14, 4: 29, 5: 1, 6: 1630}, 9: {0: 112, 1: 79, 2: 1145, 3: 112, 4: 10, 5: 11, 6: 1, 7: 98, 8: 418}, 10: {0: 49, 1: 123, 2: 430, 3: 2, 6: 10, 7: 566, 8: 9, 9: 73}, 11: {0: 703, 1: 12, 2: 192, 3: 960, 4: 3, 5: 45, 6: 95, 7: 3, 8: 46}, 12: {0: 5, 1: 470, 2: 122, 3: 16, 4: 3, 5: 190, 6: 31, 7: 105, 8: 171, 9: 3}, 13: {0: 208, 2: 261, 3: 1, 4: 12, 5: 313, 7: 113, 8: 31, 9: 20}, 14: {1: 615, 2: 3, 3: 5, 4: 123, 5: 766, 6: 328, 7: 33, 8: 1621}, 15: {0: 690, 1: 3, 3: 1068, 4: 199, 5: 59, 6: 160, 7: 3134}, 16: {0: 3, 1: 20, 2: 63, 3: 144, 4: 113, 5: 53, 6: 60, 7: 27, 8: 93, 9: 76}, 17: {0: 17, 1: 49, 3: 42, 4: 175, 5: 1207, 6: 102, 7: 2, 9: 1647}, 18: {0: 22, 1: 486, 2: 53, 3: 205, 4: 30, 5: 493, 6: 15, 8: 2105}, 19: {0: 246, 1: 1204, 2: 618, 3: 363, 4: 53, 5: 1, 6: 302, 7: 1}}\n",
      "INFO:root:total data num = 50000\n"
     ]
    }
   ],
   "source": [
    "import torch\n",
    "import sys\n",
    "\n",
    "sys.path.append(\"../\")\n",
    "\n",
    "from models.resnet import resnet8\n",
    "from models.alexnet import alexnet\n",
    "from models.lenet import LeNet\n",
    "import pandas\n",
    "from data_preprocessing.cifar10.data_loader import get_client_idxes_dict, get_client_dataloader\n",
    "dict_client_idexes, class_num, client_infos = get_client_idxes_dict(\"/mnt/data/th/FedTH/data/dataset/cifar10/\", \"hetero\", 0.3, 20)\n",
    "\n",
    "test_dl = get_client_dataloader(\"/mnt/data/th/FedTH/data/dataset/cifar10\", 64, {}, client_idx=None, train=False)\n"
   ]
  },
  {
   "cell_type": "code",
   "execution_count": 30,
   "metadata": {},
   "outputs": [],
   "source": [
    "from models.resnet_balance import resnet_fedbalance_experimental"
   ]
  },
  {
   "cell_type": "code",
   "execution_count": 48,
   "metadata": {},
   "outputs": [
    {
     "name": "stdout",
     "output_type": "stream",
     "text": [
      "-------------------------------------0--------------------------------------------\n"
     ]
    },
    {
     "name": "stderr",
     "output_type": "stream",
     "text": [
      "INFO:root:train batch: 42,val batch: 156\n"
     ]
    },
    {
     "name": "stdout",
     "output_type": "stream",
     "text": [
      "tensor([[0.0063, 0.0691, 0.0959, 0.0074, 0.8212, 0.0000, 0.0000, 0.0000, 0.0000,\n",
      "         0.0000]])\n",
      "          local    global   combine\n",
      "label                              \n",
      "0      0.064827 -0.502951 -0.502541\n",
      "1      0.008161  2.547827  2.548392\n",
      "2     -0.049721  2.183493  2.178724\n",
      "3      0.036139 -0.907944 -0.907675\n",
      "4      0.337937  4.191303  4.468813\n",
      "          local    global   combine\n",
      "label                              \n",
      "0      0.102943  0.009441  0.007905\n",
      "1      0.097214  0.250055  0.218270\n",
      "2      0.091699  0.115578  0.093500\n",
      "3      0.099924  0.006491  0.005277\n",
      "4      0.135146  0.789912  0.830319\n",
      "-------------------------------------1--------------------------------------------\n"
     ]
    },
    {
     "name": "stderr",
     "output_type": "stream",
     "text": [
      "INFO:root:train batch: 36,val batch: 156\n"
     ]
    },
    {
     "name": "stdout",
     "output_type": "stream",
     "text": [
      "tensor([[0.5430, 0.0697, 0.1318, 0.0706, 0.0329, 0.0685, 0.0248, 0.0569, 0.0000,\n",
      "         0.0017]])\n",
      "          local    global   combine\n",
      "label                              \n",
      "0      0.163919  3.285426  3.374434\n",
      "1      0.085049  0.611294  0.617226\n",
      "2     -0.061528  1.149703  1.141595\n",
      "3      0.057669  0.458260  0.462332\n",
      "4      0.038464 -0.244810 -0.243543\n",
      "5      0.104967  0.414877  0.422064\n",
      "6      0.096198 -0.471847 -0.469459\n",
      "7      0.033094  0.282539  0.284422\n",
      "9     -0.053207 -1.397054 -1.397145\n",
      "          local    global   combine\n",
      "label                              \n",
      "0      0.113229  0.660240  0.675253\n",
      "1      0.104423  0.082965  0.080367\n",
      "2      0.090394  0.177594  0.171601\n",
      "3      0.101857  0.098509  0.096434\n",
      "4      0.099904  0.054340  0.053209\n",
      "5      0.106707  0.092341  0.090479\n",
      "6      0.105759  0.043543  0.042768\n",
      "7      0.099250  0.078723  0.076609\n",
      "9      0.091282  0.012298  0.011814\n",
      "-------------------------------------2--------------------------------------------\n"
     ]
    },
    {
     "name": "stderr",
     "output_type": "stream",
     "text": [
      "INFO:root:train batch: 47,val batch: 156\n"
     ]
    },
    {
     "name": "stdout",
     "output_type": "stream",
     "text": [
      "tensor([[0.0000, 0.0462, 0.0109, 0.4972, 0.1839, 0.0020, 0.0076, 0.2522, 0.0000,\n",
      "         0.0000]])\n",
      "          local    global   combine\n",
      "label                              \n",
      "1     -0.046466  0.787499  0.785351\n",
      "2     -0.137402 -0.870055 -0.871552\n",
      "3      0.133453  3.265958  3.332310\n",
      "4      0.030350  2.329996  2.335577\n",
      "5      0.091559 -1.508886 -1.508705\n",
      "6     -0.051807 -1.075378 -1.075772\n",
      "7      0.020861  2.561020  2.566282\n",
      "          local    global   combine\n",
      "label                              \n",
      "1      0.094549  0.047092  0.045432\n",
      "2      0.086243  0.009054  0.008781\n",
      "3      0.113119  0.544947  0.559422\n",
      "4      0.102149  0.261185  0.257202\n",
      "5      0.108483  0.004613  0.004454\n",
      "6      0.093775  0.008193  0.007919\n",
      "7      0.101036  0.291215  0.284622\n",
      "-------------------------------------3--------------------------------------------\n"
     ]
    },
    {
     "name": "stderr",
     "output_type": "stream",
     "text": [
      "INFO:root:train batch: 49,val batch: 156\n"
     ]
    },
    {
     "name": "stdout",
     "output_type": "stream",
     "text": [
      "tensor([[0.0272, 0.0041, 0.0000, 0.0044, 0.0155, 0.1441, 0.0925, 0.0000, 0.0035,\n",
      "         0.7087]])\n",
      "          local    global   combine\n",
      "label                              \n",
      "0     -0.077543  0.441415  0.439304\n",
      "1      0.014048 -1.339653 -1.339595\n",
      "3      0.003651 -1.211693 -1.211677\n",
      "4     -0.127017 -0.395333 -0.397304\n",
      "5     -0.077672  2.078881  2.067691\n",
      "6      0.105499  1.909143  1.918898\n",
      "8      0.002880 -1.032310 -1.032300\n",
      "9      0.157358  4.133694  4.245210\n",
      "          local    global   combine\n",
      "label                              \n",
      "0      0.093350  0.030000  0.028111\n",
      "1      0.102099  0.004562  0.004246\n",
      "3      0.101328  0.010385  0.009999\n",
      "4      0.088970  0.022399  0.021746\n",
      "5      0.093502  0.274870  0.262590\n",
      "6      0.112225  0.261006  0.257244\n",
      "8      0.101021  0.009154  0.008615\n",
      "9      0.117988  0.788573  0.803992\n",
      "-------------------------------------4--------------------------------------------\n"
     ]
    },
    {
     "name": "stderr",
     "output_type": "stream",
     "text": [
      "INFO:root:train batch: 39,val batch: 156\n"
     ]
    },
    {
     "name": "stdout",
     "output_type": "stream",
     "text": [
      "tensor([[0.0248, 0.0338, 0.0059, 0.0711, 0.4409, 0.4236, 0.0000, 0.0000, 0.0000,\n",
      "         0.0000]])\n",
      "          local    global   combine\n",
      "label                              \n",
      "0     -0.036015  0.356610  0.355719\n",
      "1     -0.057432  0.473776  0.471835\n",
      "2     -0.094926 -0.991230 -0.991789\n",
      "3      0.010088  1.209321  1.210039\n",
      "4      0.013951  3.296666  3.302816\n",
      "5      0.094752  3.090690  3.130824\n",
      "          local    global   combine\n",
      "label                              \n",
      "0      0.098626  0.043128  0.042195\n",
      "1      0.096549  0.040278  0.039337\n",
      "2      0.093051  0.007575  0.007447\n",
      "3      0.103295  0.075058  0.073511\n",
      "4      0.103745  0.529262  0.524538\n",
      "5      0.112413  0.484090  0.492466\n",
      "-------------------------------------5--------------------------------------------\n"
     ]
    },
    {
     "name": "stderr",
     "output_type": "stream",
     "text": [
      "INFO:root:train batch: 50,val batch: 156\n"
     ]
    },
    {
     "name": "stdout",
     "output_type": "stream",
     "text": [
      "tensor([[0.0006, 0.2047, 0.3880, 0.0486, 0.0564, 0.0065, 0.2951, 0.0000, 0.0000,\n",
      "         0.0000]])\n",
      "          local    global   combine\n",
      "label                              \n",
      "0      0.023350 -2.273220 -2.273205\n",
      "1      0.132150  3.069181  3.096237\n",
      "2      0.042469  2.940631  2.957108\n",
      "3      0.064049  0.664482  0.667596\n",
      "4      0.108995  0.795261  0.801409\n",
      "5      0.012400 -1.268831 -1.268750\n",
      "6     -0.016667  2.627747  2.622829\n",
      "          local    global   combine\n",
      "label                              \n",
      "0      0.098053  0.001078  0.001056\n",
      "1      0.109456  0.448809  0.453038\n",
      "2      0.100167  0.446125  0.448840\n",
      "3      0.102285  0.049696  0.049316\n",
      "4      0.107151  0.055638  0.055535\n",
      "5      0.097277  0.007889  0.007813\n",
      "6      0.094465  0.367031  0.362693\n",
      "-------------------------------------6--------------------------------------------\n"
     ]
    },
    {
     "name": "stderr",
     "output_type": "stream",
     "text": [
      "INFO:root:train batch: 31,val batch: 156\n"
     ]
    },
    {
     "name": "stdout",
     "output_type": "stream",
     "text": [
      "tensor([[0.0025, 0.0010, 0.0000, 0.0098, 0.0039, 0.0477, 0.4486, 0.0034, 0.2095,\n",
      "         0.2735]])\n",
      "          local    global   combine\n",
      "label                              \n",
      "0     -0.033935 -1.291220 -1.291304\n",
      "1      0.050193 -1.329773 -1.329724\n",
      "3     -0.006790 -0.831463 -0.831530\n",
      "4      0.030513 -1.222385 -1.222265\n",
      "5      0.044556  0.558620  0.560746\n",
      "6      0.111794  3.790729  3.840879\n",
      "7     -0.101051 -1.110790 -1.111138\n",
      "8      0.066611  2.978476  2.992433\n",
      "9      0.117311  2.682002  2.714085\n",
      "          local    global   combine\n",
      "label                              \n",
      "0      0.094244  0.006307  0.006122\n",
      "1      0.102602  0.005531  0.005358\n",
      "3      0.096852  0.011509  0.011171\n",
      "4      0.100602  0.007058  0.006840\n",
      "5      0.102027  0.043093  0.041860\n",
      "6      0.109016  0.673886  0.678600\n",
      "7      0.088140  0.007970  0.007720\n",
      "8      0.104296  0.462092  0.458816\n",
      "9      0.109565  0.383031  0.384333\n",
      "-------------------------------------7--------------------------------------------\n"
     ]
    },
    {
     "name": "stderr",
     "output_type": "stream",
     "text": [
      "INFO:root:train batch: 13,val batch: 156\n"
     ]
    },
    {
     "name": "stdout",
     "output_type": "stream",
     "text": [
      "tensor([[0.0244, 0.2831, 0.0000, 0.0070, 0.0545, 0.0510, 0.0394, 0.0162, 0.0800,\n",
      "         0.4443]])\n",
      "          local    global   combine\n",
      "label                              \n",
      "0      0.096242 -0.675004 -0.672660\n",
      "1     -0.010236  1.833666  1.830768\n",
      "3     -0.098393 -0.852180 -0.852865\n",
      "4     -0.025370 -0.001075 -0.002458\n",
      "5     -0.129925 -0.202496 -0.209128\n",
      "6     -0.043933 -0.170386 -0.172119\n",
      "7     -0.049615 -0.617372 -0.618178\n",
      "8     -0.017576  0.473334  0.471927\n",
      "9      0.090363  2.376961  2.417110\n",
      "          local    global   combine\n",
      "label                              \n",
      "0      0.111940  0.025347  0.025059\n",
      "1      0.100685  0.279270  0.273834\n",
      "3      0.091992  0.024387  0.024037\n",
      "4      0.098997  0.061871  0.061019\n",
      "5      0.089343  0.044417  0.043540\n",
      "6      0.097155  0.050908  0.050162\n",
      "7      0.096725  0.028001  0.027574\n",
      "8      0.099944  0.081049  0.079831\n",
      "9      0.111221  0.468925  0.479368\n",
      "-------------------------------------8--------------------------------------------\n"
     ]
    },
    {
     "name": "stderr",
     "output_type": "stream",
     "text": [
      "INFO:root:train batch: 60,val batch: 156\n"
     ]
    },
    {
     "name": "stdout",
     "output_type": "stream",
     "text": [
      "tensor([[3.8414e-01, 1.1612e-01, 6.5837e-02, 3.6288e-03, 7.5168e-03, 2.5920e-04,\n",
      "         4.2250e-01, 0.0000e+00, 0.0000e+00, 0.0000e+00]])\n",
      "          local    global   combine\n",
      "label                              \n",
      "0      0.214643  4.050817  4.133269\n",
      "1      0.077809  2.387538  2.396574\n",
      "2     -0.095609  1.645967  1.639672\n",
      "3     -0.071529 -1.087276 -1.087535\n",
      "4     -0.017958 -0.850585 -0.850720\n",
      "5     -0.033837 -1.066546 -1.066555\n",
      "6      0.063182  4.073660  4.100355\n",
      "          local    global   combine\n",
      "label                              \n",
      "0      0.120558  0.640460  0.652072\n",
      "1      0.105244  0.202819  0.196299\n",
      "2      0.088394  0.073437  0.070360\n",
      "3      0.090699  0.006546  0.006285\n",
      "4      0.095631  0.004879  0.004726\n",
      "5      0.094495  0.006073  0.005925\n",
      "6      0.103607  0.706292  0.705511\n",
      "-------------------------------------9--------------------------------------------\n"
     ]
    },
    {
     "name": "stderr",
     "output_type": "stream",
     "text": [
      "INFO:root:train batch: 31,val batch: 156\n"
     ]
    },
    {
     "name": "stdout",
     "output_type": "stream",
     "text": [
      "tensor([[5.6395e-02, 3.9778e-02, 5.7654e-01, 5.6395e-02, 5.0352e-03, 5.5388e-03,\n",
      "         5.0352e-04, 4.9345e-02, 2.1047e-01, 0.0000e+00]])\n",
      "          local    global   combine\n",
      "label                              \n",
      "0      0.084133  0.494288  0.499032\n",
      "1     -0.004295 -0.036882 -0.037052\n",
      "2      0.139740  2.800120  2.880685\n",
      "3     -0.046612  0.404787  0.402159\n",
      "4     -0.016149 -1.365167 -1.365248\n",
      "5     -0.079554 -1.279455 -1.279896\n",
      "6     -0.053614 -1.304263 -1.304290\n",
      "7     -0.129399  0.218745  0.212360\n",
      "8      0.016116  1.815489  1.818881\n",
      "          local    global   combine\n",
      "label                              \n",
      "0      0.108779  0.076893  0.075019\n",
      "1      0.099497  0.040812  0.039017\n",
      "2      0.114985  0.610707  0.627977\n",
      "3      0.095417  0.058759  0.055749\n",
      "4      0.098210  0.008895  0.008405\n",
      "5      0.092425  0.010746  0.010241\n",
      "6      0.095188  0.007934  0.007582\n",
      "7      0.087691  0.049507  0.046650\n",
      "8      0.101701  0.283927  0.276095\n"
     ]
    }
   ],
   "source": [
    "for i in range(10):\n",
    "    print(\"-------------------------------------\"+str(i)+\"--------------------------------------------\")\n",
    "    train_dl, val_dl = get_client_dataloader(\n",
    "                \"/mnt/data/th/FedTH/data/dataset/cifar10\", 64, dict_client_idexes, client_idx=i, train=True)\n",
    "    model = resnet_fedbalance_experimental(LeNet(10),resnet8(10))\n",
    "    device = torch.device('cuda')\n",
    "    criterion = torch.nn.CrossEntropyLoss().to(device)\n",
    "    optimizer = torch.optim.SGD(model.parameters(), lr=0.001, momentum=0.9)\n",
    "    client_dis_ = client_infos[i]\n",
    "    client_dis = []\n",
    "    for j in range(10):\n",
    "        if j in client_dis_:\n",
    "            client_dis.append(client_dis_[j])\n",
    "        else:\n",
    "            client_dis.append(0)\n",
    "    client_dis = torch.Tensor(client_dis)\n",
    "    dist = client_dis / client_dis.sum()  # 个数的比例\n",
    "    cdist = dist#/dist.max()\n",
    "    cdist = cdist.reshape((1, -1))\n",
    "    cdist.to(device)\n",
    "    model.to(device)\n",
    "    model.train()\n",
    "\n",
    "    epoch_loss = []\n",
    "    for epoch in range(10):\n",
    "        batch_loss = []\n",
    "        for batch_idx, (images, labels) in enumerate(train_dl):\n",
    "            # logging.info(images.shape)\n",
    "            images, labels = images.to(device), labels.to(device)\n",
    "            model.zero_grad()\n",
    "            probs = model(images, cdist.to(device))\n",
    "            loss = criterion(probs, labels)\n",
    "            loss.backward()\n",
    "#             print((model.model_global.fc.weight.grad.abs().sum()/model.model_global.fc.weight.abs().sum()).item(),(model.model_local.fc_3.weight.grad.abs().sum()/model.model_local.fc_3.weight.abs().sum()).item())\n",
    "            optimizer.step()\n",
    "            batch_loss.append(loss.item())\n",
    "\n",
    "    model.eval()\n",
    "    res = []\n",
    "    res_probs = []\n",
    "\n",
    "    for batch_idx, (images, labels) in enumerate(train_dl):\n",
    "        for img,label in zip(images,labels):\n",
    "            img = img.to(device)\n",
    "            logits_local = model.model_local(img.unsqueeze(0)).to('cpu')\n",
    "            probs_local = torch.softmax(logits_local,-1)\n",
    "            logits_global = model.model_global(img.unsqueeze(0)).to('cpu')\n",
    "            probs_global = torch.softmax(logits_global,-1)\n",
    "            logits_combine = logits_local*cdist+logits_global\n",
    "            probs_combine = torch.softmax(logits_combine,-1)\n",
    "            res.append((label.item(),logits_local[0][label].item(),logits_global[0][label].item(),logits_combine[0][label].item()))\n",
    "            res_probs.append((label.item(),probs_local[0][label].item(),probs_global[0][label].item(),probs_combine[0][label].item()))\n",
    "    import pandas\n",
    "    df = pandas.DataFrame(res)\n",
    "    df.columns = ['label','local','global','combine']\n",
    "   \n",
    "    df_probs = pandas.DataFrame(res_probs)\n",
    "    df_probs.columns = ['label','local','global','combine']\n",
    "    df_probs.groupby('label').mean()\n",
    "    print(cdist)\n",
    "    print( df.groupby('label').mean())\n",
    "    print(df_probs.groupby('label').mean())\n",
    "            # print(logits_local,logits_global)\n",
    "\n",
    "    "
   ]
  },
  {
   "cell_type": "code",
   "execution_count": 39,
   "metadata": {},
   "outputs": [],
   "source": [
    "model.eval()\n",
    "res = []\n",
    "res_probs = []\n",
    "\n",
    "for batch_idx, (images, labels) in enumerate(train_dl):\n",
    "    for img,label in zip(images,labels):\n",
    "        img = img.to(device)\n",
    "        logits_local = model.model_local(img.unsqueeze(0)).to('cpu')\n",
    "        probs_local = torch.softmax(logits_local,-1)\n",
    "        logits_global = model.model_global(img.unsqueeze(0)).to('cpu')\n",
    "        probs_global = torch.softmax(logits_global,-1)\n",
    "        logits_combine = logits_local*cdist+logits_global\n",
    "        probs_combine = torch.softmax(logits_combine,-1)\n",
    "        res.append((label.item(),logits_local[0][label].item(),logits_global[0][label].item(),logits_combine[0][label].item()))\n",
    "        res_probs.append((label.item(),probs_local[0][label].item(),probs_global[0][label].item(),probs_combine[0][label].item()))\n",
    "        # print(logits_local,logits_global)\n"
   ]
  },
  {
   "cell_type": "code",
   "execution_count": 40,
   "metadata": {},
   "outputs": [],
   "source": [
    "import pandas"
   ]
  },
  {
   "cell_type": "code",
   "execution_count": 41,
   "metadata": {},
   "outputs": [],
   "source": [
    "df = pandas.DataFrame(res)"
   ]
  },
  {
   "cell_type": "code",
   "execution_count": 42,
   "metadata": {},
   "outputs": [],
   "source": [
    "df.columns = ['label','local','global','combine']"
   ]
  },
  {
   "cell_type": "code",
   "execution_count": 43,
   "metadata": {},
   "outputs": [
    {
     "data": {
      "text/html": [
       "<div>\n",
       "<style scoped>\n",
       "    .dataframe tbody tr th:only-of-type {\n",
       "        vertical-align: middle;\n",
       "    }\n",
       "\n",
       "    .dataframe tbody tr th {\n",
       "        vertical-align: top;\n",
       "    }\n",
       "\n",
       "    .dataframe thead th {\n",
       "        text-align: right;\n",
       "    }\n",
       "</style>\n",
       "<table border=\"1\" class=\"dataframe\">\n",
       "  <thead>\n",
       "    <tr style=\"text-align: right;\">\n",
       "      <th></th>\n",
       "      <th>local</th>\n",
       "      <th>global</th>\n",
       "      <th>combine</th>\n",
       "    </tr>\n",
       "    <tr>\n",
       "      <th>label</th>\n",
       "      <th></th>\n",
       "      <th></th>\n",
       "      <th></th>\n",
       "    </tr>\n",
       "  </thead>\n",
       "  <tbody>\n",
       "    <tr>\n",
       "      <th>0</th>\n",
       "      <td>-0.058160</td>\n",
       "      <td>-0.632344</td>\n",
       "      <td>-0.632712</td>\n",
       "    </tr>\n",
       "    <tr>\n",
       "      <th>1</th>\n",
       "      <td>0.059419</td>\n",
       "      <td>2.481889</td>\n",
       "      <td>2.485997</td>\n",
       "    </tr>\n",
       "    <tr>\n",
       "      <th>2</th>\n",
       "      <td>-0.033733</td>\n",
       "      <td>2.165640</td>\n",
       "      <td>2.162405</td>\n",
       "    </tr>\n",
       "    <tr>\n",
       "      <th>3</th>\n",
       "      <td>0.010282</td>\n",
       "      <td>-0.563382</td>\n",
       "      <td>-0.563305</td>\n",
       "    </tr>\n",
       "    <tr>\n",
       "      <th>4</th>\n",
       "      <td>0.370856</td>\n",
       "      <td>4.169620</td>\n",
       "      <td>4.474164</td>\n",
       "    </tr>\n",
       "  </tbody>\n",
       "</table>\n",
       "</div>"
      ],
      "text/plain": [
       "          local    global   combine\n",
       "label                              \n",
       "0     -0.058160 -0.632344 -0.632712\n",
       "1      0.059419  2.481889  2.485997\n",
       "2     -0.033733  2.165640  2.162405\n",
       "3      0.010282 -0.563382 -0.563305\n",
       "4      0.370856  4.169620  4.474164"
      ]
     },
     "execution_count": 43,
     "metadata": {},
     "output_type": "execute_result"
    }
   ],
   "source": [
    "df.groupby('label').mean()"
   ]
  },
  {
   "cell_type": "code",
   "execution_count": 44,
   "metadata": {},
   "outputs": [
    {
     "data": {
      "text/html": [
       "<div>\n",
       "<style scoped>\n",
       "    .dataframe tbody tr th:only-of-type {\n",
       "        vertical-align: middle;\n",
       "    }\n",
       "\n",
       "    .dataframe tbody tr th {\n",
       "        vertical-align: top;\n",
       "    }\n",
       "\n",
       "    .dataframe thead th {\n",
       "        text-align: right;\n",
       "    }\n",
       "</style>\n",
       "<table border=\"1\" class=\"dataframe\">\n",
       "  <thead>\n",
       "    <tr style=\"text-align: right;\">\n",
       "      <th></th>\n",
       "      <th>local</th>\n",
       "      <th>global</th>\n",
       "      <th>combine</th>\n",
       "    </tr>\n",
       "    <tr>\n",
       "      <th>label</th>\n",
       "      <th></th>\n",
       "      <th></th>\n",
       "      <th></th>\n",
       "    </tr>\n",
       "  </thead>\n",
       "  <tbody>\n",
       "    <tr>\n",
       "      <th>0</th>\n",
       "      <td>0.088142</td>\n",
       "      <td>0.008575</td>\n",
       "      <td>0.006966</td>\n",
       "    </tr>\n",
       "    <tr>\n",
       "      <th>1</th>\n",
       "      <td>0.099271</td>\n",
       "      <td>0.213029</td>\n",
       "      <td>0.180067</td>\n",
       "    </tr>\n",
       "    <tr>\n",
       "      <th>2</th>\n",
       "      <td>0.090478</td>\n",
       "      <td>0.115966</td>\n",
       "      <td>0.091640</td>\n",
       "    </tr>\n",
       "    <tr>\n",
       "      <th>3</th>\n",
       "      <td>0.094610</td>\n",
       "      <td>0.008388</td>\n",
       "      <td>0.006750</td>\n",
       "    </tr>\n",
       "    <tr>\n",
       "      <th>4</th>\n",
       "      <td>0.135635</td>\n",
       "      <td>0.782904</td>\n",
       "      <td>0.828162</td>\n",
       "    </tr>\n",
       "  </tbody>\n",
       "</table>\n",
       "</div>"
      ],
      "text/plain": [
       "          local    global   combine\n",
       "label                              \n",
       "0      0.088142  0.008575  0.006966\n",
       "1      0.099271  0.213029  0.180067\n",
       "2      0.090478  0.115966  0.091640\n",
       "3      0.094610  0.008388  0.006750\n",
       "4      0.135635  0.782904  0.828162"
      ]
     },
     "execution_count": 44,
     "metadata": {},
     "output_type": "execute_result"
    }
   ],
   "source": [
    "df_probs = pandas.DataFrame(res_probs)\n",
    "df_probs.columns = ['label','local','global','combine']\n",
    "df_probs.groupby('label').mean()"
   ]
  },
  {
   "cell_type": "code",
   "execution_count": null,
   "metadata": {},
   "outputs": [],
   "source": [
    "for i in range(10):\n",
    "    print(\"-------------------------------------\"+str(i)+\"--------------------------------------------\")\n",
    "    train_dl, val_dl = get_client_dataloader(\n",
    "                \"/mnt/data/th/FedTH/data/dataset/cifar10\", 64, dict_client_idexes, client_idx=i, train=True)\n",
    "    model = resnet_fedbalance_experimental(LeNet(10),resnet8(10))\n",
    "    device = torch.device('cuda')\n",
    "    criterion = torch.nn.CrossEntropyLoss().to(device)\n",
    "    optimizer = torch.optim.SGD(model.parameters(), lr=0.001, momentum=0.9)\n",
    "    client_dis_ = client_infos[i]\n",
    "    client_dis = []\n",
    "    for j in range(10):\n",
    "        if j in client_dis_:\n",
    "            client_dis.append(client_dis_[j])\n",
    "        else:\n",
    "            client_dis.append(0)\n",
    "    client_dis = torch.Tensor(client_dis)\n",
    "    dist = client_dis / client_dis.sum()  # 个数的比例\n",
    "    cdist = dist#/dist.max()\n",
    "    cdist = cdist.reshape((1, -1))\n",
    "    cdist.to(device)\n",
    "    model.to(device)\n",
    "    model.train()\n",
    "\n",
    "    res_gradient = []\n",
    "    res_norm = []\n",
    "    for epoch in range(10):\n",
    "        for batch_idx, (images, labels) in enumerate(train_dl):\n",
    "            # logging.info(images.shape)\n",
    "            images, labels = images.to(device), labels.to(device)\n",
    "            model.zero_grad()\n",
    "            probs = model(images, cdist.to(device))\n",
    "            loss = criterion(probs, labels)\n",
    "            loss.backward()\n",
    "            res_gradient.append([epoch,batch,model.model_global.fc.weight.grad.abs().sum(),model.model_local.fc_3.weight.grad.abs().sum()])\n",
    "            res_norm.append\n",
    "            print(model.model_global.fc.weight.grad.abs().sum(),model.model_local.fc_3.weight.grad.abs().sum())\n",
    "            print((model.model_global.fc.weight.grad.abs().sum()/model.model_global.fc.weight.abs().sum()).item(),(model.model_local.fc_3.weight.grad.abs().sum()/model.model_local.fc_3.weight.abs().sum()).item())\n",
    "            optimizer.step()\n",
    "            batch_loss.append(loss.item())\n",
    "\n",
    "    model.eval()\n",
    "    res = []\n",
    "    res_probs = []\n",
    "\n",
    "    for batch_idx, (images, labels) in enumerate(train_dl):\n",
    "        for img,label in zip(images,labels):\n",
    "            img = img.to(device)\n",
    "            logits_local = model.model_local(img.unsqueeze(0)).to('cpu')\n",
    "            probs_local = torch.softmax(logits_local,-1)\n",
    "            logits_global = model.model_global(img.unsqueeze(0)).to('cpu')\n",
    "            probs_global = torch.softmax(logits_global,-1)\n",
    "            logits_combine = logits_local*cdist+logits_global\n",
    "            probs_combine = torch.softmax(logits_combine,-1)\n",
    "            res.append((label.item(),logits_local[0][label].item(),logits_global[0][label].item(),logits_combine[0][label].item()))\n",
    "            res_probs.append((label.item(),probs_local[0][label].item(),probs_global[0][label].item(),probs_combine[0][label].item()))\n",
    "    import pandas\n",
    "    df = pandas.DataFrame(res)\n",
    "    df.columns = ['label','local','global','combine']\n",
    "   \n",
    "    df_probs = pandas.DataFrame(res_probs)\n",
    "    df_probs.columns = ['label','local','global','combine']\n",
    "    df_probs.groupby('label').mean()\n",
    "    print(cdist)\n",
    "    print( df.groupby('label').mean())\n",
    "    print(df_probs.groupby('label').mean())\n",
    "            # print(logits_local,logits_global)\n",
    "    break\n",
    "\n",
    "    "
   ]
  }
 ],
 "metadata": {
  "kernelspec": {
   "display_name": "Python 3 (ipykernel)",
   "language": "python",
   "name": "python3"
  },
  "language_info": {
   "codemirror_mode": {
    "name": "ipython",
    "version": 3
   },
   "file_extension": ".py",
   "mimetype": "text/x-python",
   "name": "python",
   "nbconvert_exporter": "python",
   "pygments_lexer": "ipython3",
   "version": "3.7.12"
  }
 },
 "nbformat": 4,
 "nbformat_minor": 2
}
